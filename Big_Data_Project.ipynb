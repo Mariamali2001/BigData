{
 "cells": [
  {
   "cell_type": "markdown",
   "metadata": {},
   "source": [
    "## **Cleaning Data** "
   ]
  },
  {
   "cell_type": "markdown",
   "metadata": {},
   "source": [
    "## Import libraries"
   ]
  },
  {
   "cell_type": "code",
   "execution_count": 24,
   "metadata": {},
   "outputs": [],
   "source": [
    "import numpy as np\n",
    "import seaborn as sns\n",
    "import pandas as pd \n",
    "from pyspark.sql import SparkSession\n",
    "from pyspark.ml import Pipeline\n",
    "from pyspark.ml.feature import VectorAssembler\n",
    "from pyspark.ml.classification import LogisticRegression\n",
    "from sklearn.metrics import accuracy_score\n",
    "from sklearn.experimental import enable_iterative_imputer\n",
    "from sklearn.impute import IterativeImputer\n",
    "import matplotlib.pyplot as plt\n",
    "import pandas as pd\n",
    "from pyspark import SparkContext, SparkConf\n"
   ]
  },
  {
   "cell_type": "markdown",
   "metadata": {},
   "source": [
    "# Read dataset"
   ]
  },
  {
   "cell_type": "code",
   "execution_count": 18,
   "metadata": {},
   "outputs": [
    {
     "data": {
      "text/html": [
       "<div>\n",
       "<style scoped>\n",
       "    .dataframe tbody tr th:only-of-type {\n",
       "        vertical-align: middle;\n",
       "    }\n",
       "\n",
       "    .dataframe tbody tr th {\n",
       "        vertical-align: top;\n",
       "    }\n",
       "\n",
       "    .dataframe thead th {\n",
       "        text-align: right;\n",
       "    }\n",
       "</style>\n",
       "<table border=\"1\" class=\"dataframe\">\n",
       "  <thead>\n",
       "    <tr style=\"text-align: right;\">\n",
       "      <th></th>\n",
       "      <th>Artist Name</th>\n",
       "      <th>Track Name</th>\n",
       "      <th>Popularity</th>\n",
       "      <th>danceability</th>\n",
       "      <th>energy</th>\n",
       "      <th>key</th>\n",
       "      <th>loudness</th>\n",
       "      <th>mode</th>\n",
       "      <th>speechiness</th>\n",
       "      <th>acousticness</th>\n",
       "      <th>instrumentalness</th>\n",
       "      <th>liveness</th>\n",
       "      <th>valence</th>\n",
       "      <th>tempo</th>\n",
       "      <th>duration_in min/ms</th>\n",
       "      <th>time_signature</th>\n",
       "      <th>Class</th>\n",
       "    </tr>\n",
       "  </thead>\n",
       "  <tbody>\n",
       "    <tr>\n",
       "      <th>0</th>\n",
       "      <td>Bruno Mars</td>\n",
       "      <td>That's What I Like (feat. Gucci Mane)</td>\n",
       "      <td>60.0</td>\n",
       "      <td>0.854</td>\n",
       "      <td>0.564</td>\n",
       "      <td>1.0</td>\n",
       "      <td>-4.964</td>\n",
       "      <td>1</td>\n",
       "      <td>0.0485</td>\n",
       "      <td>0.017100</td>\n",
       "      <td>NaN</td>\n",
       "      <td>0.0849</td>\n",
       "      <td>0.8990</td>\n",
       "      <td>134.071</td>\n",
       "      <td>234596.000000</td>\n",
       "      <td>4</td>\n",
       "      <td>5</td>\n",
       "    </tr>\n",
       "    <tr>\n",
       "      <th>1</th>\n",
       "      <td>Boston</td>\n",
       "      <td>Hitch a Ride</td>\n",
       "      <td>54.0</td>\n",
       "      <td>0.382</td>\n",
       "      <td>0.814</td>\n",
       "      <td>3.0</td>\n",
       "      <td>-7.230</td>\n",
       "      <td>1</td>\n",
       "      <td>0.0406</td>\n",
       "      <td>0.001100</td>\n",
       "      <td>0.004010</td>\n",
       "      <td>0.1010</td>\n",
       "      <td>0.5690</td>\n",
       "      <td>116.454</td>\n",
       "      <td>251733.000000</td>\n",
       "      <td>4</td>\n",
       "      <td>10</td>\n",
       "    </tr>\n",
       "    <tr>\n",
       "      <th>2</th>\n",
       "      <td>The Raincoats</td>\n",
       "      <td>No Side to Fall In</td>\n",
       "      <td>35.0</td>\n",
       "      <td>0.434</td>\n",
       "      <td>0.614</td>\n",
       "      <td>6.0</td>\n",
       "      <td>-8.334</td>\n",
       "      <td>1</td>\n",
       "      <td>0.0525</td>\n",
       "      <td>0.486000</td>\n",
       "      <td>0.000196</td>\n",
       "      <td>0.3940</td>\n",
       "      <td>0.7870</td>\n",
       "      <td>147.681</td>\n",
       "      <td>109667.000000</td>\n",
       "      <td>4</td>\n",
       "      <td>6</td>\n",
       "    </tr>\n",
       "    <tr>\n",
       "      <th>3</th>\n",
       "      <td>Deno</td>\n",
       "      <td>Lingo (feat. J.I &amp; Chunkz)</td>\n",
       "      <td>66.0</td>\n",
       "      <td>0.853</td>\n",
       "      <td>0.597</td>\n",
       "      <td>10.0</td>\n",
       "      <td>-6.528</td>\n",
       "      <td>0</td>\n",
       "      <td>0.0555</td>\n",
       "      <td>0.021200</td>\n",
       "      <td>NaN</td>\n",
       "      <td>0.1220</td>\n",
       "      <td>0.5690</td>\n",
       "      <td>107.033</td>\n",
       "      <td>173968.000000</td>\n",
       "      <td>4</td>\n",
       "      <td>5</td>\n",
       "    </tr>\n",
       "    <tr>\n",
       "      <th>4</th>\n",
       "      <td>Red Hot Chili Peppers</td>\n",
       "      <td>Nobody Weird Like Me - Remastered</td>\n",
       "      <td>53.0</td>\n",
       "      <td>0.167</td>\n",
       "      <td>0.975</td>\n",
       "      <td>2.0</td>\n",
       "      <td>-4.279</td>\n",
       "      <td>1</td>\n",
       "      <td>0.2160</td>\n",
       "      <td>0.000169</td>\n",
       "      <td>0.016100</td>\n",
       "      <td>0.1720</td>\n",
       "      <td>0.0918</td>\n",
       "      <td>199.060</td>\n",
       "      <td>229960.000000</td>\n",
       "      <td>4</td>\n",
       "      <td>10</td>\n",
       "    </tr>\n",
       "    <tr>\n",
       "      <th>...</th>\n",
       "      <td>...</td>\n",
       "      <td>...</td>\n",
       "      <td>...</td>\n",
       "      <td>...</td>\n",
       "      <td>...</td>\n",
       "      <td>...</td>\n",
       "      <td>...</td>\n",
       "      <td>...</td>\n",
       "      <td>...</td>\n",
       "      <td>...</td>\n",
       "      <td>...</td>\n",
       "      <td>...</td>\n",
       "      <td>...</td>\n",
       "      <td>...</td>\n",
       "      <td>...</td>\n",
       "      <td>...</td>\n",
       "      <td>...</td>\n",
       "    </tr>\n",
       "    <tr>\n",
       "      <th>15512</th>\n",
       "      <td>Television</td>\n",
       "      <td>Marquee Moon - Remastered</td>\n",
       "      <td>47.0</td>\n",
       "      <td>0.494</td>\n",
       "      <td>0.657</td>\n",
       "      <td>7.0</td>\n",
       "      <td>-7.543</td>\n",
       "      <td>1</td>\n",
       "      <td>0.0397</td>\n",
       "      <td>0.063200</td>\n",
       "      <td>0.449000</td>\n",
       "      <td>0.0849</td>\n",
       "      <td>0.7370</td>\n",
       "      <td>118.194</td>\n",
       "      <td>645000.000000</td>\n",
       "      <td>4</td>\n",
       "      <td>1</td>\n",
       "    </tr>\n",
       "    <tr>\n",
       "      <th>15513</th>\n",
       "      <td>Hulkoff</td>\n",
       "      <td>Martialisk - Svitjod Edition</td>\n",
       "      <td>39.0</td>\n",
       "      <td>0.487</td>\n",
       "      <td>0.984</td>\n",
       "      <td>1.0</td>\n",
       "      <td>-4.790</td>\n",
       "      <td>1</td>\n",
       "      <td>0.1610</td>\n",
       "      <td>0.000439</td>\n",
       "      <td>0.023400</td>\n",
       "      <td>0.3540</td>\n",
       "      <td>0.2910</td>\n",
       "      <td>120.031</td>\n",
       "      <td>225627.000000</td>\n",
       "      <td>4</td>\n",
       "      <td>8</td>\n",
       "    </tr>\n",
       "    <tr>\n",
       "      <th>15514</th>\n",
       "      <td>Red Garland, Paul Chambers, Art Taylor</td>\n",
       "      <td>Almost Like Being In Love</td>\n",
       "      <td>57.0</td>\n",
       "      <td>0.561</td>\n",
       "      <td>0.346</td>\n",
       "      <td>NaN</td>\n",
       "      <td>-12.596</td>\n",
       "      <td>0</td>\n",
       "      <td>0.0409</td>\n",
       "      <td>0.873000</td>\n",
       "      <td>0.399000</td>\n",
       "      <td>0.1040</td>\n",
       "      <td>0.6970</td>\n",
       "      <td>93.689</td>\n",
       "      <td>4.838217</td>\n",
       "      <td>4</td>\n",
       "      <td>7</td>\n",
       "    </tr>\n",
       "    <tr>\n",
       "      <th>15515</th>\n",
       "      <td>Squid</td>\n",
       "      <td>Sludge</td>\n",
       "      <td>41.0</td>\n",
       "      <td>0.391</td>\n",
       "      <td>0.835</td>\n",
       "      <td>7.0</td>\n",
       "      <td>-4.944</td>\n",
       "      <td>1</td>\n",
       "      <td>0.0702</td>\n",
       "      <td>0.004850</td>\n",
       "      <td>0.005140</td>\n",
       "      <td>0.1180</td>\n",
       "      <td>0.1090</td>\n",
       "      <td>129.024</td>\n",
       "      <td>300820.000000</td>\n",
       "      <td>4</td>\n",
       "      <td>6</td>\n",
       "    </tr>\n",
       "    <tr>\n",
       "      <th>15516</th>\n",
       "      <td>Bad Wolves</td>\n",
       "      <td>Zombie</td>\n",
       "      <td>70.0</td>\n",
       "      <td>0.448</td>\n",
       "      <td>0.826</td>\n",
       "      <td>2.0</td>\n",
       "      <td>-3.244</td>\n",
       "      <td>0</td>\n",
       "      <td>0.0319</td>\n",
       "      <td>0.007560</td>\n",
       "      <td>NaN</td>\n",
       "      <td>0.1170</td>\n",
       "      <td>0.1900</td>\n",
       "      <td>77.093</td>\n",
       "      <td>254805.000000</td>\n",
       "      <td>4</td>\n",
       "      <td>10</td>\n",
       "    </tr>\n",
       "  </tbody>\n",
       "</table>\n",
       "<p>15517 rows × 17 columns</p>\n",
       "</div>"
      ],
      "text/plain": [
       "                                  Artist Name  \\\n",
       "0                                  Bruno Mars   \n",
       "1                                      Boston   \n",
       "2                               The Raincoats   \n",
       "3                                        Deno   \n",
       "4                       Red Hot Chili Peppers   \n",
       "...                                       ...   \n",
       "15512                              Television   \n",
       "15513                                 Hulkoff   \n",
       "15514  Red Garland, Paul Chambers, Art Taylor   \n",
       "15515                                   Squid   \n",
       "15516                              Bad Wolves   \n",
       "\n",
       "                                  Track Name  Popularity  danceability  \\\n",
       "0      That's What I Like (feat. Gucci Mane)        60.0         0.854   \n",
       "1                               Hitch a Ride        54.0         0.382   \n",
       "2                         No Side to Fall In        35.0         0.434   \n",
       "3                 Lingo (feat. J.I & Chunkz)        66.0         0.853   \n",
       "4          Nobody Weird Like Me - Remastered        53.0         0.167   \n",
       "...                                      ...         ...           ...   \n",
       "15512              Marquee Moon - Remastered        47.0         0.494   \n",
       "15513           Martialisk - Svitjod Edition        39.0         0.487   \n",
       "15514              Almost Like Being In Love        57.0         0.561   \n",
       "15515                                 Sludge        41.0         0.391   \n",
       "15516                                 Zombie        70.0         0.448   \n",
       "\n",
       "       energy   key  loudness  mode  speechiness  acousticness  \\\n",
       "0       0.564   1.0    -4.964     1       0.0485      0.017100   \n",
       "1       0.814   3.0    -7.230     1       0.0406      0.001100   \n",
       "2       0.614   6.0    -8.334     1       0.0525      0.486000   \n",
       "3       0.597  10.0    -6.528     0       0.0555      0.021200   \n",
       "4       0.975   2.0    -4.279     1       0.2160      0.000169   \n",
       "...       ...   ...       ...   ...          ...           ...   \n",
       "15512   0.657   7.0    -7.543     1       0.0397      0.063200   \n",
       "15513   0.984   1.0    -4.790     1       0.1610      0.000439   \n",
       "15514   0.346   NaN   -12.596     0       0.0409      0.873000   \n",
       "15515   0.835   7.0    -4.944     1       0.0702      0.004850   \n",
       "15516   0.826   2.0    -3.244     0       0.0319      0.007560   \n",
       "\n",
       "       instrumentalness  liveness  valence    tempo  duration_in min/ms  \\\n",
       "0                   NaN    0.0849   0.8990  134.071       234596.000000   \n",
       "1              0.004010    0.1010   0.5690  116.454       251733.000000   \n",
       "2              0.000196    0.3940   0.7870  147.681       109667.000000   \n",
       "3                   NaN    0.1220   0.5690  107.033       173968.000000   \n",
       "4              0.016100    0.1720   0.0918  199.060       229960.000000   \n",
       "...                 ...       ...      ...      ...                 ...   \n",
       "15512          0.449000    0.0849   0.7370  118.194       645000.000000   \n",
       "15513          0.023400    0.3540   0.2910  120.031       225627.000000   \n",
       "15514          0.399000    0.1040   0.6970   93.689            4.838217   \n",
       "15515          0.005140    0.1180   0.1090  129.024       300820.000000   \n",
       "15516               NaN    0.1170   0.1900   77.093       254805.000000   \n",
       "\n",
       "       time_signature  Class  \n",
       "0                   4      5  \n",
       "1                   4     10  \n",
       "2                   4      6  \n",
       "3                   4      5  \n",
       "4                   4     10  \n",
       "...               ...    ...  \n",
       "15512               4      1  \n",
       "15513               4      8  \n",
       "15514               4      7  \n",
       "15515               4      6  \n",
       "15516               4     10  \n",
       "\n",
       "[15517 rows x 17 columns]"
      ]
     },
     "execution_count": 18,
     "metadata": {},
     "output_type": "execute_result"
    }
   ],
   "source": [
    "music = pd.read_csv(\"music_genre_dataset.csv\")\n",
    "music"
   ]
  },
  {
   "cell_type": "markdown",
   "metadata": {},
   "source": [
    "# Type of attributes "
   ]
  },
  {
   "cell_type": "code",
   "execution_count": 4,
   "metadata": {},
   "outputs": [
    {
     "data": {
      "text/plain": [
       "Artist Name            object\n",
       "Track Name             object\n",
       "Popularity            float64\n",
       "danceability          float64\n",
       "energy                float64\n",
       "key                   float64\n",
       "loudness              float64\n",
       "mode                    int64\n",
       "speechiness           float64\n",
       "acousticness          float64\n",
       "instrumentalness      float64\n",
       "liveness              float64\n",
       "valence               float64\n",
       "tempo                 float64\n",
       "duration_in min/ms    float64\n",
       "time_signature          int64\n",
       "Class                   int64\n",
       "dtype: object"
      ]
     },
     "execution_count": 4,
     "metadata": {},
     "output_type": "execute_result"
    }
   ],
   "source": [
    "music.dtypes\n"
   ]
  },
  {
   "cell_type": "markdown",
   "metadata": {},
   "source": [
    "# missing percentage  per attribute "
   ]
  },
  {
   "cell_type": "code",
   "execution_count": 5,
   "metadata": {},
   "outputs": [
    {
     "data": {
      "text/plain": [
       "Artist Name            0.000000\n",
       "Track Name             0.000000\n",
       "Popularity             2.539151\n",
       "danceability           0.000000\n",
       "energy                 0.000000\n",
       "key                   11.232841\n",
       "loudness               0.000000\n",
       "mode                   0.000000\n",
       "speechiness            0.000000\n",
       "acousticness           0.000000\n",
       "instrumentalness      23.116582\n",
       "liveness               0.000000\n",
       "valence                0.000000\n",
       "tempo                  0.000000\n",
       "duration_in min/ms     0.000000\n",
       "time_signature         0.000000\n",
       "Class                  0.000000\n",
       "dtype: float64"
      ]
     },
     "execution_count": 5,
     "metadata": {},
     "output_type": "execute_result"
    }
   ],
   "source": [
    "missing_values = music.isna().sum()/len(music)*100\n",
    "missing_values"
   ]
  },
  {
   "cell_type": "code",
   "execution_count": 6,
   "metadata": {},
   "outputs": [
    {
     "data": {
      "text/html": [
       "<div>\n",
       "<style scoped>\n",
       "    .dataframe tbody tr th:only-of-type {\n",
       "        vertical-align: middle;\n",
       "    }\n",
       "\n",
       "    .dataframe tbody tr th {\n",
       "        vertical-align: top;\n",
       "    }\n",
       "\n",
       "    .dataframe thead th {\n",
       "        text-align: right;\n",
       "    }\n",
       "</style>\n",
       "<table border=\"1\" class=\"dataframe\">\n",
       "  <thead>\n",
       "    <tr style=\"text-align: right;\">\n",
       "      <th></th>\n",
       "      <th>Popularity</th>\n",
       "      <th>danceability</th>\n",
       "      <th>energy</th>\n",
       "      <th>key</th>\n",
       "      <th>loudness</th>\n",
       "      <th>mode</th>\n",
       "      <th>speechiness</th>\n",
       "      <th>acousticness</th>\n",
       "      <th>instrumentalness</th>\n",
       "      <th>liveness</th>\n",
       "      <th>valence</th>\n",
       "      <th>tempo</th>\n",
       "      <th>duration_in min/ms</th>\n",
       "      <th>time_signature</th>\n",
       "      <th>Class</th>\n",
       "    </tr>\n",
       "  </thead>\n",
       "  <tbody>\n",
       "    <tr>\n",
       "      <th>count</th>\n",
       "      <td>15123.000000</td>\n",
       "      <td>15517.000000</td>\n",
       "      <td>15517.000000</td>\n",
       "      <td>13774.000000</td>\n",
       "      <td>15517.000000</td>\n",
       "      <td>15517.000000</td>\n",
       "      <td>15517.000000</td>\n",
       "      <td>15517.000000</td>\n",
       "      <td>11930.000000</td>\n",
       "      <td>15517.000000</td>\n",
       "      <td>15517.000000</td>\n",
       "      <td>15517.000000</td>\n",
       "      <td>1.551700e+04</td>\n",
       "      <td>15517.000000</td>\n",
       "      <td>15517.000000</td>\n",
       "    </tr>\n",
       "    <tr>\n",
       "      <th>mean</th>\n",
       "      <td>45.582358</td>\n",
       "      <td>0.541469</td>\n",
       "      <td>0.668711</td>\n",
       "      <td>5.964281</td>\n",
       "      <td>-7.856428</td>\n",
       "      <td>0.652639</td>\n",
       "      <td>0.080936</td>\n",
       "      <td>0.238502</td>\n",
       "      <td>0.177348</td>\n",
       "      <td>0.196837</td>\n",
       "      <td>0.487344</td>\n",
       "      <td>122.833548</td>\n",
       "      <td>1.992960e+05</td>\n",
       "      <td>3.925114</td>\n",
       "      <td>6.564155</td>\n",
       "    </tr>\n",
       "    <tr>\n",
       "      <th>std</th>\n",
       "      <td>17.400843</td>\n",
       "      <td>0.166838</td>\n",
       "      <td>0.235402</td>\n",
       "      <td>3.196333</td>\n",
       "      <td>4.018688</td>\n",
       "      <td>0.476147</td>\n",
       "      <td>0.084977</td>\n",
       "      <td>0.309605</td>\n",
       "      <td>0.302935</td>\n",
       "      <td>0.160212</td>\n",
       "      <td>0.240228</td>\n",
       "      <td>29.686429</td>\n",
       "      <td>1.148326e+05</td>\n",
       "      <td>0.360904</td>\n",
       "      <td>3.258829</td>\n",
       "    </tr>\n",
       "    <tr>\n",
       "      <th>min</th>\n",
       "      <td>1.000000</td>\n",
       "      <td>0.059600</td>\n",
       "      <td>0.001210</td>\n",
       "      <td>1.000000</td>\n",
       "      <td>-39.952000</td>\n",
       "      <td>0.000000</td>\n",
       "      <td>0.022500</td>\n",
       "      <td>0.000000</td>\n",
       "      <td>0.000001</td>\n",
       "      <td>0.011900</td>\n",
       "      <td>0.021500</td>\n",
       "      <td>30.557000</td>\n",
       "      <td>5.016500e-01</td>\n",
       "      <td>1.000000</td>\n",
       "      <td>0.000000</td>\n",
       "    </tr>\n",
       "    <tr>\n",
       "      <th>25%</th>\n",
       "      <td>34.000000</td>\n",
       "      <td>0.430000</td>\n",
       "      <td>0.517000</td>\n",
       "      <td>3.000000</td>\n",
       "      <td>-9.483000</td>\n",
       "      <td>0.000000</td>\n",
       "      <td>0.035100</td>\n",
       "      <td>0.003380</td>\n",
       "      <td>0.000097</td>\n",
       "      <td>0.097400</td>\n",
       "      <td>0.298000</td>\n",
       "      <td>99.729000</td>\n",
       "      <td>1.632400e+05</td>\n",
       "      <td>4.000000</td>\n",
       "      <td>5.000000</td>\n",
       "    </tr>\n",
       "    <tr>\n",
       "      <th>50%</th>\n",
       "      <td>45.000000</td>\n",
       "      <td>0.543000</td>\n",
       "      <td>0.708000</td>\n",
       "      <td>6.000000</td>\n",
       "      <td>-6.971000</td>\n",
       "      <td>1.000000</td>\n",
       "      <td>0.048300</td>\n",
       "      <td>0.068100</td>\n",
       "      <td>0.004215</td>\n",
       "      <td>0.129000</td>\n",
       "      <td>0.484000</td>\n",
       "      <td>120.065000</td>\n",
       "      <td>2.084270e+05</td>\n",
       "      <td>4.000000</td>\n",
       "      <td>8.000000</td>\n",
       "    </tr>\n",
       "    <tr>\n",
       "      <th>75%</th>\n",
       "      <td>57.000000</td>\n",
       "      <td>0.656000</td>\n",
       "      <td>0.866000</td>\n",
       "      <td>9.000000</td>\n",
       "      <td>-5.150000</td>\n",
       "      <td>1.000000</td>\n",
       "      <td>0.084800</td>\n",
       "      <td>0.410000</td>\n",
       "      <td>0.203000</td>\n",
       "      <td>0.260000</td>\n",
       "      <td>0.674000</td>\n",
       "      <td>142.378000</td>\n",
       "      <td>2.522530e+05</td>\n",
       "      <td>4.000000</td>\n",
       "      <td>10.000000</td>\n",
       "    </tr>\n",
       "    <tr>\n",
       "      <th>max</th>\n",
       "      <td>100.000000</td>\n",
       "      <td>0.989000</td>\n",
       "      <td>1.000000</td>\n",
       "      <td>11.000000</td>\n",
       "      <td>1.355000</td>\n",
       "      <td>1.000000</td>\n",
       "      <td>0.955000</td>\n",
       "      <td>0.996000</td>\n",
       "      <td>0.996000</td>\n",
       "      <td>1.000000</td>\n",
       "      <td>0.986000</td>\n",
       "      <td>217.416000</td>\n",
       "      <td>1.477187e+06</td>\n",
       "      <td>5.000000</td>\n",
       "      <td>10.000000</td>\n",
       "    </tr>\n",
       "  </tbody>\n",
       "</table>\n",
       "</div>"
      ],
      "text/plain": [
       "         Popularity  danceability        energy           key      loudness  \\\n",
       "count  15123.000000  15517.000000  15517.000000  13774.000000  15517.000000   \n",
       "mean      45.582358      0.541469      0.668711      5.964281     -7.856428   \n",
       "std       17.400843      0.166838      0.235402      3.196333      4.018688   \n",
       "min        1.000000      0.059600      0.001210      1.000000    -39.952000   \n",
       "25%       34.000000      0.430000      0.517000      3.000000     -9.483000   \n",
       "50%       45.000000      0.543000      0.708000      6.000000     -6.971000   \n",
       "75%       57.000000      0.656000      0.866000      9.000000     -5.150000   \n",
       "max      100.000000      0.989000      1.000000     11.000000      1.355000   \n",
       "\n",
       "               mode   speechiness  acousticness  instrumentalness  \\\n",
       "count  15517.000000  15517.000000  15517.000000      11930.000000   \n",
       "mean       0.652639      0.080936      0.238502          0.177348   \n",
       "std        0.476147      0.084977      0.309605          0.302935   \n",
       "min        0.000000      0.022500      0.000000          0.000001   \n",
       "25%        0.000000      0.035100      0.003380          0.000097   \n",
       "50%        1.000000      0.048300      0.068100          0.004215   \n",
       "75%        1.000000      0.084800      0.410000          0.203000   \n",
       "max        1.000000      0.955000      0.996000          0.996000   \n",
       "\n",
       "           liveness       valence         tempo  duration_in min/ms  \\\n",
       "count  15517.000000  15517.000000  15517.000000        1.551700e+04   \n",
       "mean       0.196837      0.487344    122.833548        1.992960e+05   \n",
       "std        0.160212      0.240228     29.686429        1.148326e+05   \n",
       "min        0.011900      0.021500     30.557000        5.016500e-01   \n",
       "25%        0.097400      0.298000     99.729000        1.632400e+05   \n",
       "50%        0.129000      0.484000    120.065000        2.084270e+05   \n",
       "75%        0.260000      0.674000    142.378000        2.522530e+05   \n",
       "max        1.000000      0.986000    217.416000        1.477187e+06   \n",
       "\n",
       "       time_signature         Class  \n",
       "count    15517.000000  15517.000000  \n",
       "mean         3.925114      6.564155  \n",
       "std          0.360904      3.258829  \n",
       "min          1.000000      0.000000  \n",
       "25%          4.000000      5.000000  \n",
       "50%          4.000000      8.000000  \n",
       "75%          4.000000     10.000000  \n",
       "max          5.000000     10.000000  "
      ]
     },
     "execution_count": 6,
     "metadata": {},
     "output_type": "execute_result"
    }
   ],
   "source": [
    "music.describe()"
   ]
  },
  {
   "cell_type": "markdown",
   "metadata": {},
   "source": [
    "## Handling missing  values in Popularity by drop rows since it's small percentage that missing"
   ]
  },
  {
   "cell_type": "code",
   "execution_count": 7,
   "metadata": {},
   "outputs": [],
   "source": [
    "music=music.dropna(subset=['Popularity'])\n"
   ]
  },
  {
   "cell_type": "code",
   "execution_count": 8,
   "metadata": {},
   "outputs": [
    {
     "data": {
      "text/plain": [
       "Artist Name            0.000000\n",
       "Track Name             0.000000\n",
       "Popularity             0.000000\n",
       "danceability           0.000000\n",
       "energy                 0.000000\n",
       "key                   11.175031\n",
       "loudness               0.000000\n",
       "mode                   0.000000\n",
       "speechiness            0.000000\n",
       "acousticness           0.000000\n",
       "instrumentalness      23.004695\n",
       "liveness               0.000000\n",
       "valence                0.000000\n",
       "tempo                  0.000000\n",
       "duration_in min/ms     0.000000\n",
       "time_signature         0.000000\n",
       "Class                  0.000000\n",
       "dtype: float64"
      ]
     },
     "execution_count": 8,
     "metadata": {},
     "output_type": "execute_result"
    }
   ],
   "source": [
    "missing_values = music.isna().sum()/len(music)*100\n",
    "missing_values"
   ]
  },
  {
   "cell_type": "markdown",
   "metadata": {},
   "source": [
    "# Handling missing values in key and  instrumentalness "
   ]
  },
  {
   "cell_type": "code",
   "execution_count": 9,
   "metadata": {},
   "outputs": [
    {
     "name": "stderr",
     "output_type": "stream",
     "text": [
      "C:\\Users\\HP\\AppData\\Local\\Temp\\ipykernel_24532\\583266822.py:9: SettingWithCopyWarning: \n",
      "A value is trying to be set on a copy of a slice from a DataFrame.\n",
      "Try using .loc[row_indexer,col_indexer] = value instead\n",
      "\n",
      "See the caveats in the documentation: https://pandas.pydata.org/pandas-docs/stable/user_guide/indexing.html#returning-a-view-versus-a-copy\n",
      "  music['key'] = data=imp.transform(music[['key']]).ravel()\n",
      "C:\\Users\\HP\\AppData\\Local\\Temp\\ipykernel_24532\\583266822.py:17: SettingWithCopyWarning: \n",
      "A value is trying to be set on a copy of a slice from a DataFrame.\n",
      "Try using .loc[row_indexer,col_indexer] = value instead\n",
      "\n",
      "See the caveats in the documentation: https://pandas.pydata.org/pandas-docs/stable/user_guide/indexing.html#returning-a-view-versus-a-copy\n",
      "  music['instrumentalness'] = data=imp.transform(music[['instrumentalness']]).ravel()\n"
     ]
    }
   ],
   "source": [
    "#key \n",
    "\n",
    "\n",
    "\n",
    "\n",
    "imp = IterativeImputer(missing_values=np.nan,\n",
    "                       max_iter=20,tol=0.001)\n",
    "imp.fit(music[['key']])\n",
    "music['key'] = data=imp.transform(music[['key']]).ravel()\n",
    "\n",
    "\n",
    "# instrumentalness \n",
    "\n",
    "imp = IterativeImputer(missing_values=np.nan,\n",
    "                       max_iter=20,tol=0.001)\n",
    "imp.fit(music[['instrumentalness']])\n",
    "music['instrumentalness'] = data=imp.transform(music[['instrumentalness']]).ravel()\n",
    "\n",
    "\n"
   ]
  },
  {
   "cell_type": "code",
   "execution_count": 10,
   "metadata": {},
   "outputs": [
    {
     "data": {
      "text/plain": [
       "Artist Name           0.0\n",
       "Track Name            0.0\n",
       "Popularity            0.0\n",
       "danceability          0.0\n",
       "energy                0.0\n",
       "key                   0.0\n",
       "loudness              0.0\n",
       "mode                  0.0\n",
       "speechiness           0.0\n",
       "acousticness          0.0\n",
       "instrumentalness      0.0\n",
       "liveness              0.0\n",
       "valence               0.0\n",
       "tempo                 0.0\n",
       "duration_in min/ms    0.0\n",
       "time_signature        0.0\n",
       "Class                 0.0\n",
       "dtype: float64"
      ]
     },
     "execution_count": 10,
     "metadata": {},
     "output_type": "execute_result"
    }
   ],
   "source": [
    "missing_values = music.isna().sum()/len(music)*100\n",
    "missing_values"
   ]
  },
  {
   "cell_type": "code",
   "execution_count": 15,
   "metadata": {},
   "outputs": [
    {
     "data": {
      "image/png": "[encoded data removed]",
      "text/plain": [
       "<Figure size 720x720 with 15 Axes>"
      ]
     },
     "metadata": {
      "needs_background": "light"
     },
     "output_type": "display_data"
    }
   ],
   "source": [
    "music_cleaned = music.select_dtypes([int, float])\n",
    "\n",
    "fig=plt.figure(figsize=(10,10))\n",
    "for i ,columns in enumerate (music_cleaned,1):\n",
    "    ax= plt.subplot(5,3,i)\n",
    "    sns.boxplot(data= music_cleaned , x=music_cleaned[columns])\n",
    "    ax.set_xlabel(None)\n",
    "    ax.set_title(f'Distribution of {columns}')\n",
    "    plt.tight_layout(w_pad=3)\n",
    "plt.show()\n",
    "\n"
   ]
  },
  {
   "cell_type": "code",
   "execution_count": 23,
   "metadata": {},
   "outputs": [
    {
     "data": {
      "text/plain": [
       "array([ 5, 10,  6,  2,  4,  8,  3,  7,  1,  9,  0], dtype=int64)"
      ]
     },
     "execution_count": 23,
     "metadata": {},
     "output_type": "execute_result"
    }
   ],
   "source": [
    "labels=music[\"Class\"]\n",
    "songs = music.drop(columns=[\"Class\"], axis=1)\n",
    "\n",
    "songs\n",
    "labels.unique() \n"
   ]
  },
  {
   "cell_type": "markdown",
   "metadata": {},
   "source": [
    "# point 2"
   ]
  },
  {
   "cell_type": "markdown",
   "metadata": {},
   "source": [
    "## **SparkSQL**"
   ]
  },
  {
   "cell_type": "code",
   "execution_count": 26,
   "metadata": {},
   "outputs": [
    {
     "name": "stdout",
     "output_type": "stream",
     "text": [
      "Collecting findspark\n",
      "  Downloading findspark-2.0.1-py2.py3-none-any.whl (4.4 kB)\n",
      "Installing collected packages: findspark\n",
      "Successfully installed findspark-2.0.1\n"
     ]
    }
   ],
   "source": [
    "!pip install findspark"
   ]
  },
  {
   "cell_type": "code",
   "execution_count": 27,
   "metadata": {},
   "outputs": [],
   "source": [
    "import findspark\n",
    "findspark.init()"
   ]
  },
  {
   "cell_type": "code",
   "execution_count": 28,
   "metadata": {},
   "outputs": [
    {
     "ename": "KeyboardInterrupt",
     "evalue": "",
     "output_type": "error",
     "traceback": [
      "\u001b[1;31m---------------------------------------------------------------------------\u001b[0m",
      "\u001b[1;31mKeyboardInterrupt\u001b[0m                         Traceback (most recent call last)",
      "\u001b[1;32me:\\Semester 6\\Big Data and NoSQL project\\Big data Project\\project\\Big_Data_Project.ipynb Cell 23'\u001b[0m in \u001b[0;36m<cell line: 2>\u001b[1;34m()\u001b[0m\n\u001b[0;32m      <a href='vscode-notebook-cell:/e%3A/Semester%206/Big%20Data%20and%20NoSQL%20project/Big%20data%20Project/project/Big_Data_Project.ipynb#ch0000029?line=0'>1</a>\u001b[0m \u001b[39m# Creating a spark context class\u001b[39;00m\n\u001b[1;32m----> <a href='vscode-notebook-cell:/e%3A/Semester%206/Big%20Data%20and%20NoSQL%20project/Big%20data%20Project/project/Big_Data_Project.ipynb#ch0000029?line=1'>2</a>\u001b[0m sc \u001b[39m=\u001b[39m SparkContext()\n\u001b[0;32m      <a href='vscode-notebook-cell:/e%3A/Semester%206/Big%20Data%20and%20NoSQL%20project/Big%20data%20Project/project/Big_Data_Project.ipynb#ch0000029?line=3'>4</a>\u001b[0m \u001b[39m# Creating a spark session\u001b[39;00m\n\u001b[0;32m      <a href='vscode-notebook-cell:/e%3A/Semester%206/Big%20Data%20and%20NoSQL%20project/Big%20data%20Project/project/Big_Data_Project.ipynb#ch0000029?line=4'>5</a>\u001b[0m spark \u001b[39m=\u001b[39m SparkSession \\\n\u001b[0;32m      <a href='vscode-notebook-cell:/e%3A/Semester%206/Big%20Data%20and%20NoSQL%20project/Big%20data%20Project/project/Big_Data_Project.ipynb#ch0000029?line=5'>6</a>\u001b[0m     \u001b[39m.\u001b[39mbuilder \\\n\u001b[0;32m      <a href='vscode-notebook-cell:/e%3A/Semester%206/Big%20Data%20and%20NoSQL%20project/Big%20data%20Project/project/Big_Data_Project.ipynb#ch0000029?line=6'>7</a>\u001b[0m     \u001b[39m.\u001b[39mappName(\u001b[39m\"\u001b[39m\u001b[39mPython Spark DataFrames basic example\u001b[39m\u001b[39m\"\u001b[39m) \\\n\u001b[0;32m      <a href='vscode-notebook-cell:/e%3A/Semester%206/Big%20Data%20and%20NoSQL%20project/Big%20data%20Project/project/Big_Data_Project.ipynb#ch0000029?line=7'>8</a>\u001b[0m     \u001b[39m.\u001b[39mconfig(\u001b[39m\"\u001b[39m\u001b[39mspark.some.config.option\u001b[39m\u001b[39m\"\u001b[39m, \u001b[39m\"\u001b[39m\u001b[39msome-value\u001b[39m\u001b[39m\"\u001b[39m) \\\n\u001b[0;32m      <a href='vscode-notebook-cell:/e%3A/Semester%206/Big%20Data%20and%20NoSQL%20project/Big%20data%20Project/project/Big_Data_Project.ipynb#ch0000029?line=8'>9</a>\u001b[0m     \u001b[39m.\u001b[39mgetOrCreate()\n",
      "File \u001b[1;32mc:\\Users\\HP\\AppData\\Local\\Programs\\Python\\Python310\\lib\\site-packages\\pyspark\\context.py:144\u001b[0m, in \u001b[0;36mSparkContext.__init__\u001b[1;34m(self, master, appName, sparkHome, pyFiles, environment, batchSize, serializer, conf, gateway, jsc, profiler_cls)\u001b[0m\n\u001b[0;32m    139\u001b[0m \u001b[39mif\u001b[39;00m gateway \u001b[39mis\u001b[39;00m \u001b[39mnot\u001b[39;00m \u001b[39mNone\u001b[39;00m \u001b[39mand\u001b[39;00m gateway\u001b[39m.\u001b[39mgateway_parameters\u001b[39m.\u001b[39mauth_token \u001b[39mis\u001b[39;00m \u001b[39mNone\u001b[39;00m:\n\u001b[0;32m    140\u001b[0m     \u001b[39mraise\u001b[39;00m \u001b[39mValueError\u001b[39;00m(\n\u001b[0;32m    141\u001b[0m         \u001b[39m\"\u001b[39m\u001b[39mYou are trying to pass an insecure Py4j gateway to Spark. This\u001b[39m\u001b[39m\"\u001b[39m\n\u001b[0;32m    142\u001b[0m         \u001b[39m\"\u001b[39m\u001b[39m is not allowed as it is a security risk.\u001b[39m\u001b[39m\"\u001b[39m)\n\u001b[1;32m--> 144\u001b[0m SparkContext\u001b[39m.\u001b[39;49m_ensure_initialized(\u001b[39mself\u001b[39;49m, gateway\u001b[39m=\u001b[39;49mgateway, conf\u001b[39m=\u001b[39;49mconf)\n\u001b[0;32m    145\u001b[0m \u001b[39mtry\u001b[39;00m:\n\u001b[0;32m    146\u001b[0m     \u001b[39mself\u001b[39m\u001b[39m.\u001b[39m_do_init(master, appName, sparkHome, pyFiles, environment, batchSize, serializer,\n\u001b[0;32m    147\u001b[0m                   conf, jsc, profiler_cls)\n",
      "File \u001b[1;32mc:\\Users\\HP\\AppData\\Local\\Programs\\Python\\Python310\\lib\\site-packages\\pyspark\\context.py:339\u001b[0m, in \u001b[0;36mSparkContext._ensure_initialized\u001b[1;34m(cls, instance, gateway, conf)\u001b[0m\n\u001b[0;32m    337\u001b[0m \u001b[39mwith\u001b[39;00m SparkContext\u001b[39m.\u001b[39m_lock:\n\u001b[0;32m    338\u001b[0m     \u001b[39mif\u001b[39;00m \u001b[39mnot\u001b[39;00m SparkContext\u001b[39m.\u001b[39m_gateway:\n\u001b[1;32m--> 339\u001b[0m         SparkContext\u001b[39m.\u001b[39m_gateway \u001b[39m=\u001b[39m gateway \u001b[39mor\u001b[39;00m launch_gateway(conf)\n\u001b[0;32m    340\u001b[0m         SparkContext\u001b[39m.\u001b[39m_jvm \u001b[39m=\u001b[39m SparkContext\u001b[39m.\u001b[39m_gateway\u001b[39m.\u001b[39mjvm\n\u001b[0;32m    342\u001b[0m     \u001b[39mif\u001b[39;00m instance:\n",
      "File \u001b[1;32mc:\\Users\\HP\\AppData\\Local\\Programs\\Python\\Python310\\lib\\site-packages\\pyspark\\java_gateway.py:105\u001b[0m, in \u001b[0;36mlaunch_gateway\u001b[1;34m(conf, popen_kwargs)\u001b[0m\n\u001b[0;32m    103\u001b[0m \u001b[39m# Wait for the file to appear, or for the process to exit, whichever happens first.\u001b[39;00m\n\u001b[0;32m    104\u001b[0m \u001b[39mwhile\u001b[39;00m \u001b[39mnot\u001b[39;00m proc\u001b[39m.\u001b[39mpoll() \u001b[39mand\u001b[39;00m \u001b[39mnot\u001b[39;00m os\u001b[39m.\u001b[39mpath\u001b[39m.\u001b[39misfile(conn_info_file):\n\u001b[1;32m--> 105\u001b[0m     time\u001b[39m.\u001b[39;49msleep(\u001b[39m0.1\u001b[39;49m)\n\u001b[0;32m    107\u001b[0m \u001b[39mif\u001b[39;00m \u001b[39mnot\u001b[39;00m os\u001b[39m.\u001b[39mpath\u001b[39m.\u001b[39misfile(conn_info_file):\n\u001b[0;32m    108\u001b[0m     \u001b[39mraise\u001b[39;00m \u001b[39mRuntimeError\u001b[39;00m(\u001b[39m\"\u001b[39m\u001b[39mJava gateway process exited before sending its port number\u001b[39m\u001b[39m\"\u001b[39m)\n",
      "\u001b[1;31mKeyboardInterrupt\u001b[0m: "
     ]
    }
   ],
   "source": [
    "# Creating a spark context class\n",
    "sc = SparkContext()\n",
    "\n",
    "# Creating a spark session\n",
    "spark = SparkSession \\\n",
    "    .builder \\\n",
    "    .appName(\"Python Spark DataFrames basic example\") \\\n",
    "    .config(\"spark.some.config.option\", \"some-value\") \\\n",
    "    .getOrCreate()"
   ]
  },
  {
   "cell_type": "code",
   "execution_count": 29,
   "metadata": {},
   "outputs": [
    {
     "ename": "NameError",
     "evalue": "name 'spark' is not defined",
     "output_type": "error",
     "traceback": [
      "\u001b[1;31m---------------------------------------------------------------------------\u001b[0m",
      "\u001b[1;31mNameError\u001b[0m                                 Traceback (most recent call last)",
      "\u001b[1;32me:\\Semester 6\\Big Data and NoSQL project\\Big data Project\\project\\Big_Data_Project.ipynb Cell 24'\u001b[0m in \u001b[0;36m<cell line: 2>\u001b[1;34m()\u001b[0m\n\u001b[0;32m      <a href='vscode-notebook-cell:/e%3A/Semester%206/Big%20Data%20and%20NoSQL%20project/Big%20data%20Project/project/Big_Data_Project.ipynb#ch0000032?line=0'>1</a>\u001b[0m songs\u001b[39m=\u001b[39m pd\u001b[39m.\u001b[39mread_csv(\u001b[39m'\u001b[39m\u001b[39mmusic_genre_dataset.csv\u001b[39m\u001b[39m'\u001b[39m)\n\u001b[1;32m----> <a href='vscode-notebook-cell:/e%3A/Semester%206/Big%20Data%20and%20NoSQL%20project/Big%20data%20Project/project/Big_Data_Project.ipynb#ch0000032?line=1'>2</a>\u001b[0m sdf \u001b[39m=\u001b[39m spark\u001b[39m.\u001b[39mcreateDataFrame(songs)\n",
      "\u001b[1;31mNameError\u001b[0m: name 'spark' is not defined"
     ]
    }
   ],
   "source": [
    "songs= pd.read_csv('music_genre_dataset.csv')\n",
    "sdf = spark.createDataFrame(songs) "
   ]
  },
  {
   "cell_type": "code",
   "execution_count": null,
   "metadata": {},
   "outputs": [],
   "source": [
    "sdf.printSchema()\n"
   ]
  },
  {
   "cell_type": "code",
   "execution_count": null,
   "metadata": {},
   "outputs": [],
   "source": [
    "sdf.createOrReplaceTempView(\"songs\")"
   ]
  },
  {
   "cell_type": "markdown",
   "metadata": {},
   "source": [
    "## Query number one "
   ]
  },
  {
   "cell_type": "code",
   "execution_count": null,
   "metadata": {},
   "outputs": [],
   "source": [
    "spark.sql(\"SELECT ArtistName FROM songs where max(danceability) \")"
   ]
  },
  {
   "cell_type": "markdown",
   "metadata": {},
   "source": [
    "## Query number two"
   ]
  },
  {
   "cell_type": "code",
   "execution_count": null,
   "metadata": {},
   "outputs": [],
   "source": []
  },
  {
   "cell_type": "markdown",
   "metadata": {},
   "source": [
    "## Query number three"
   ]
  },
  {
   "cell_type": "code",
   "execution_count": null,
   "metadata": {},
   "outputs": [],
   "source": []
  },
  {
   "cell_type": "markdown",
   "metadata": {},
   "source": [
    "## **Visualization**"
   ]
  },
  {
   "cell_type": "code",
   "execution_count": null,
   "metadata": {},
   "outputs": [],
   "source": []
  },
  {
   "cell_type": "markdown",
   "metadata": {},
   "source": [
    "## **SparkML**"
   ]
  },
  {
   "cell_type": "code",
   "execution_count": null,
   "metadata": {},
   "outputs": [],
   "source": []
  }
 ],
 "metadata": {
  "interpreter": {
   "hash": "a9cff5a362bc38ef45d817ae74b1af54d6a076e3d773891282bce078b815ba34"
  },
  "kernelspec": {
   "display_name": "Python 3.10.4 64-bit",
   "language": "python",
   "name": "python3"
  },
  "language_info": {
   "codemirror_mode": {
    "name": "ipython",
    "version": 3
   },
   "file_extension": ".py",
   "mimetype": "text/x-python",
   "name": "python",
   "nbconvert_exporter": "python",
   "pygments_lexer": "ipython3",
   "version": "3.10.4"
  },
  "orig_nbformat": 4
 },
 "nbformat": 4,
 "nbformat_minor": 2
}
